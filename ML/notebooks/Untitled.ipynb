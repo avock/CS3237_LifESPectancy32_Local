{
 "cells": [
  {
   "cell_type": "code",
   "execution_count": 1,
   "id": "0687c52d",
   "metadata": {},
   "outputs": [],
   "source": [
    "# libraries required for data visualization\n",
    "import numpy as np\n",
    "import pandas as pd\n",
    "import matplotlib.pyplot as plt\n",
    "\n",
    "# libraries required for data pre-processing\n",
    "from sklearn.preprocessing import StandardScaler\n",
    "from sklearn.model_selection import train_test_split\n",
    "\n",
    "# libraries required for ML\n",
    "import tensorflow as tf\n",
    "from tensorflow.keras.models import Sequential\n",
    "from tensorflow.keras.layers import LSTM, Dense, ELU\n",
    "from tensorflow.keras.callbacks import ModelCheckpoint\n",
    "from tensorflow.keras.losses import MeanSquaredError\n",
    "from tensorflow.keras.metrics import RootMeanSquaredError\n",
    "from tensorflow.keras.optimizers.legacy import Adam\n",
    "from sklearn.metrics import mean_squared_error, mean_absolute_error, r2_score, explained_variance_score, mean_absolute_percentage_error"
   ]
  },
  {
   "cell_type": "markdown",
   "id": "7ce6385e",
   "metadata": {},
   "source": [
    "Reference\n",
    "\n",
    "[Time Series Anomaly Detection](https://arxiv.org/pdf/1708.03665.pdf)\n",
    "\n",
    "[Time Series LSTM](https://colab.research.google.com/drive/1HxPsJvEAH8L7XTmLnfdJ3UQx7j0o1yX5?usp=sharing#scrollTo=KTqY8r6_Zpev) from [this](https://www.youtube.com/watch?v=c0k-YLQGKjY) youtube video"
   ]
  },
  {
   "cell_type": "code",
   "execution_count": 2,
   "id": "5569e42a",
   "metadata": {},
   "outputs": [],
   "source": [
    "# read in csv files\n",
    "df_original = pd.read_csv(\"smart_home_dataset.csv\")\n",
    "anomaly1 = pd.read_csv(\"anomaly_1.csv\")\n",
    "anomaly2 = pd.read_csv(\"anomaly_2.csv\")\n",
    "anomaly3 = pd.read_csv(\"anomaly_3.csv\")"
   ]
  },
  {
   "cell_type": "code",
   "execution_count": 3,
   "id": "737b1352",
   "metadata": {},
   "outputs": [],
   "source": [
    "# pre-processing utility functions\n",
    "def df_time_preprocess(df):\n",
    "    df['date_time'] = pd.to_datetime(df['date_time'])\n",
    "\n",
    "    df['time'] = df['date_time'].dt.strftime('%H:%M:%S')\n",
    "    df = df[['time'] + [col for col in df.columns if col != 'time']]\n",
    "    \n",
    "    return df\n",
    "\n",
    "def df_data_standardization(df, scaler=None):\n",
    "    df_clean = df.copy()\n",
    "    df_clean['relative_time'] = pd.to_timedelta(df_clean['time']).dt.total_seconds()\n",
    "    df_clean['relative_time'] = np.sin(2 * np.pi * df_clean['relative_time'] / 86400)\n",
    "\n",
    "    columns_to_drop = ['date_time', 'time']\n",
    "\n",
    "    for col in columns_to_drop:\n",
    "        if col in df_clean.columns:\n",
    "            df_clean = df_clean.drop(columns=[col])\n",
    "            \n",
    "    if scaler is None:\n",
    "        scaler = StandardScaler()\n",
    "        X = scaler.fit_transform(df_clean.values)\n",
    "    else:\n",
    "        X = scaler.transform(df_clean.values)\n",
    "\n",
    "    df_standardized = pd.DataFrame(X, columns=df_clean.columns)\n",
    "\n",
    "    return df_standardized"
   ]
  },
  {
   "cell_type": "code",
   "execution_count": 4,
   "id": "885d6b58",
   "metadata": {},
   "outputs": [],
   "source": [
    "# Graph Plotting Utility Functions\n",
    "def plot_trend_over_time(df):\n",
    "    fig, axes = plt.subplots(\n",
    "        nrows=len(df.columns) - 2, figsize=(10, 2 * (len(df.columns) - 2))\n",
    "    )\n",
    "    fig.subplots_adjust(hspace=1)\n",
    "\n",
    "    for i, column in enumerate(df.columns):\n",
    "        if column == \"time\" or column == \"date_time\":\n",
    "            continue\n",
    "        axes[i - 2].plot(df[\"date_time\"], df[column])\n",
    "        axes[i - 2].set_title(column)\n",
    "        axes[i - 2].set_xlabel(\"Time\")\n",
    "        axes[i - 2].set_ylabel(column)\n",
    "\n",
    "    plt.xticks(rotation=45)\n",
    "    plt.show()\n",
    "\n",
    "\n",
    "def plot_average_daily_trend(df):\n",
    "    if 'date_time' in df.columns:\n",
    "        avg_df = df.drop(columns='date_time')\n",
    "    time_col = 'time' if 'time' in df.columns else 'relative_time'\n",
    "        \n",
    "    avg_df = df.groupby(time_col).mean()\n",
    "    avg_df.reset_index(inplace=True)\n",
    "    fig, axes = plt.subplots(\n",
    "        nrows=len(avg_df.columns) - 1, figsize=(10, 2 * (len(avg_df.columns) - 1))\n",
    "    )\n",
    "    fig.subplots_adjust(hspace=1)\n",
    "\n",
    "    displayed_times = [\"00:00:00\", \"06:00:00\", \"12:00:00\", \"18:00:00\", \"23:59:00\"]\n",
    "\n",
    "    for i, column in enumerate(avg_df.columns):\n",
    "        if column == time_col:\n",
    "            continue\n",
    "        axes[i - 1].plot(avg_df[time_col], avg_df[column])\n",
    "        axes[i - 1].set_title(column)\n",
    "        axes[i - 1].set_xlabel(\"Time\")\n",
    "        axes[i - 1].set_ylabel(column)\n",
    "\n",
    "        displayed_indices = [avg_df[avg_df[time_col] == t].index[0] for t in displayed_times]\n",
    "        displayed_labels = [t for t in displayed_times]\n",
    "        axes[i - 1].set_xticks(displayed_indices)\n",
    "        axes[i - 1].set_xticklabels(displayed_labels)\n",
    "\n",
    "    plt.xticks(rotation=45)\n",
    "    plt.show()"
   ]
  },
  {
   "cell_type": "code",
   "execution_count": 5,
   "id": "37700be6",
   "metadata": {},
   "outputs": [],
   "source": [
    "# master copy of original df is in df_original\n",
    "df = df_original.copy()\n",
    "\n",
    "df_cleaned = df_data_standardization(df_time_preprocess(df))"
   ]
  },
  {
   "cell_type": "code",
   "execution_count": 6,
   "id": "14dfe6ee",
   "metadata": {
    "scrolled": true
   },
   "outputs": [
    {
     "ename": "KeyError",
     "evalue": "'date_time'",
     "output_type": "error",
     "traceback": [
      "\u001b[0;31m---------------------------------------------------------------------------\u001b[0m",
      "\u001b[0;31mKeyError\u001b[0m                                  Traceback (most recent call last)",
      "File \u001b[0;32m/Library/Frameworks/Python.framework/Versions/3.9/lib/python3.9/site-packages/pandas/core/indexes/base.py:3653\u001b[0m, in \u001b[0;36mIndex.get_loc\u001b[0;34m(self, key)\u001b[0m\n\u001b[1;32m   3652\u001b[0m \u001b[38;5;28;01mtry\u001b[39;00m:\n\u001b[0;32m-> 3653\u001b[0m     \u001b[38;5;28;01mreturn\u001b[39;00m \u001b[38;5;28;43mself\u001b[39;49m\u001b[38;5;241;43m.\u001b[39;49m\u001b[43m_engine\u001b[49m\u001b[38;5;241;43m.\u001b[39;49m\u001b[43mget_loc\u001b[49m\u001b[43m(\u001b[49m\u001b[43mcasted_key\u001b[49m\u001b[43m)\u001b[49m\n\u001b[1;32m   3654\u001b[0m \u001b[38;5;28;01mexcept\u001b[39;00m \u001b[38;5;167;01mKeyError\u001b[39;00m \u001b[38;5;28;01mas\u001b[39;00m err:\n",
      "File \u001b[0;32m/Library/Frameworks/Python.framework/Versions/3.9/lib/python3.9/site-packages/pandas/_libs/index.pyx:147\u001b[0m, in \u001b[0;36mpandas._libs.index.IndexEngine.get_loc\u001b[0;34m()\u001b[0m\n",
      "File \u001b[0;32m/Library/Frameworks/Python.framework/Versions/3.9/lib/python3.9/site-packages/pandas/_libs/index.pyx:176\u001b[0m, in \u001b[0;36mpandas._libs.index.IndexEngine.get_loc\u001b[0;34m()\u001b[0m\n",
      "File \u001b[0;32mpandas/_libs/hashtable_class_helper.pxi:7080\u001b[0m, in \u001b[0;36mpandas._libs.hashtable.PyObjectHashTable.get_item\u001b[0;34m()\u001b[0m\n",
      "File \u001b[0;32mpandas/_libs/hashtable_class_helper.pxi:7088\u001b[0m, in \u001b[0;36mpandas._libs.hashtable.PyObjectHashTable.get_item\u001b[0;34m()\u001b[0m\n",
      "\u001b[0;31mKeyError\u001b[0m: 'date_time'",
      "\nThe above exception was the direct cause of the following exception:\n",
      "\u001b[0;31mKeyError\u001b[0m                                  Traceback (most recent call last)",
      "Cell \u001b[0;32mIn[6], line 1\u001b[0m\n\u001b[0;32m----> 1\u001b[0m \u001b[43mplot_trend_over_time\u001b[49m\u001b[43m(\u001b[49m\u001b[43mdf_cleaned\u001b[49m\u001b[43m)\u001b[49m\n",
      "Cell \u001b[0;32mIn[4], line 11\u001b[0m, in \u001b[0;36mplot_trend_over_time\u001b[0;34m(df)\u001b[0m\n\u001b[1;32m      9\u001b[0m \u001b[38;5;28;01mif\u001b[39;00m column \u001b[38;5;241m==\u001b[39m \u001b[38;5;124m\"\u001b[39m\u001b[38;5;124mtime\u001b[39m\u001b[38;5;124m\"\u001b[39m \u001b[38;5;129;01mor\u001b[39;00m column \u001b[38;5;241m==\u001b[39m \u001b[38;5;124m\"\u001b[39m\u001b[38;5;124mdate_time\u001b[39m\u001b[38;5;124m\"\u001b[39m:\n\u001b[1;32m     10\u001b[0m     \u001b[38;5;28;01mcontinue\u001b[39;00m\n\u001b[0;32m---> 11\u001b[0m axes[i \u001b[38;5;241m-\u001b[39m \u001b[38;5;241m2\u001b[39m]\u001b[38;5;241m.\u001b[39mplot(\u001b[43mdf\u001b[49m\u001b[43m[\u001b[49m\u001b[38;5;124;43m\"\u001b[39;49m\u001b[38;5;124;43mdate_time\u001b[39;49m\u001b[38;5;124;43m\"\u001b[39;49m\u001b[43m]\u001b[49m, df[column])\n\u001b[1;32m     12\u001b[0m axes[i \u001b[38;5;241m-\u001b[39m \u001b[38;5;241m2\u001b[39m]\u001b[38;5;241m.\u001b[39mset_title(column)\n\u001b[1;32m     13\u001b[0m axes[i \u001b[38;5;241m-\u001b[39m \u001b[38;5;241m2\u001b[39m]\u001b[38;5;241m.\u001b[39mset_xlabel(\u001b[38;5;124m\"\u001b[39m\u001b[38;5;124mTime\u001b[39m\u001b[38;5;124m\"\u001b[39m)\n",
      "File \u001b[0;32m/Library/Frameworks/Python.framework/Versions/3.9/lib/python3.9/site-packages/pandas/core/frame.py:3761\u001b[0m, in \u001b[0;36mDataFrame.__getitem__\u001b[0;34m(self, key)\u001b[0m\n\u001b[1;32m   3759\u001b[0m \u001b[38;5;28;01mif\u001b[39;00m \u001b[38;5;28mself\u001b[39m\u001b[38;5;241m.\u001b[39mcolumns\u001b[38;5;241m.\u001b[39mnlevels \u001b[38;5;241m>\u001b[39m \u001b[38;5;241m1\u001b[39m:\n\u001b[1;32m   3760\u001b[0m     \u001b[38;5;28;01mreturn\u001b[39;00m \u001b[38;5;28mself\u001b[39m\u001b[38;5;241m.\u001b[39m_getitem_multilevel(key)\n\u001b[0;32m-> 3761\u001b[0m indexer \u001b[38;5;241m=\u001b[39m \u001b[38;5;28;43mself\u001b[39;49m\u001b[38;5;241;43m.\u001b[39;49m\u001b[43mcolumns\u001b[49m\u001b[38;5;241;43m.\u001b[39;49m\u001b[43mget_loc\u001b[49m\u001b[43m(\u001b[49m\u001b[43mkey\u001b[49m\u001b[43m)\u001b[49m\n\u001b[1;32m   3762\u001b[0m \u001b[38;5;28;01mif\u001b[39;00m is_integer(indexer):\n\u001b[1;32m   3763\u001b[0m     indexer \u001b[38;5;241m=\u001b[39m [indexer]\n",
      "File \u001b[0;32m/Library/Frameworks/Python.framework/Versions/3.9/lib/python3.9/site-packages/pandas/core/indexes/base.py:3655\u001b[0m, in \u001b[0;36mIndex.get_loc\u001b[0;34m(self, key)\u001b[0m\n\u001b[1;32m   3653\u001b[0m     \u001b[38;5;28;01mreturn\u001b[39;00m \u001b[38;5;28mself\u001b[39m\u001b[38;5;241m.\u001b[39m_engine\u001b[38;5;241m.\u001b[39mget_loc(casted_key)\n\u001b[1;32m   3654\u001b[0m \u001b[38;5;28;01mexcept\u001b[39;00m \u001b[38;5;167;01mKeyError\u001b[39;00m \u001b[38;5;28;01mas\u001b[39;00m err:\n\u001b[0;32m-> 3655\u001b[0m     \u001b[38;5;28;01mraise\u001b[39;00m \u001b[38;5;167;01mKeyError\u001b[39;00m(key) \u001b[38;5;28;01mfrom\u001b[39;00m \u001b[38;5;21;01merr\u001b[39;00m\n\u001b[1;32m   3656\u001b[0m \u001b[38;5;28;01mexcept\u001b[39;00m \u001b[38;5;167;01mTypeError\u001b[39;00m:\n\u001b[1;32m   3657\u001b[0m     \u001b[38;5;66;03m# If we have a listlike key, _check_indexing_error will raise\u001b[39;00m\n\u001b[1;32m   3658\u001b[0m     \u001b[38;5;66;03m#  InvalidIndexError. Otherwise we fall through and re-raise\u001b[39;00m\n\u001b[1;32m   3659\u001b[0m     \u001b[38;5;66;03m#  the TypeError.\u001b[39;00m\n\u001b[1;32m   3660\u001b[0m     \u001b[38;5;28mself\u001b[39m\u001b[38;5;241m.\u001b[39m_check_indexing_error(key)\n",
      "\u001b[0;31mKeyError\u001b[0m: 'date_time'"
     ]
    },
    {
     "data": {
      "image/png": "[encoded data removed]",
      "text/plain": [
       "<Figure size 1000x1000 with 5 Axes>"
      ]
     },
     "metadata": {},
     "output_type": "display_data"
    }
   ],
   "source": [
    "plot_trend_over_time(df_cleaned)"
   ]
  },
  {
   "cell_type": "code",
   "execution_count": null,
   "id": "9dfe25a8",
   "metadata": {
    "scrolled": true
   },
   "outputs": [],
   "source": [
    "plot_average_daily_trend(df)"
   ]
  },
  {
   "cell_type": "code",
   "execution_count": null,
   "id": "99d97846",
   "metadata": {},
   "outputs": [],
   "source": [
    "# Data Pre-processing\n",
    "df_clean = df_original\n",
    "# time wrt midnight, since we need to include time in our model\n",
    "df_clean['relative_time'] = pd.to_timedelta(df_clean['time']).dt.total_seconds()\n",
    "# convert to sin graph to have continuous values\n",
    "df_clean['relative_time'] = np.sin(2 * np.pi * df_clean['relative_time'] / 86400)\n",
    "df_clean  = df.drop(columns=['date_time', 'time'])\n",
    "\n",
    "# Use StandardScaler to standardize all features\n",
    "X = df_clean.values\n",
    "scaler = StandardScaler()\n",
    "X = scaler.fit_transform(X)\n",
    "df_standardized = pd.DataFrame(X, columns=df_clean.columns)\n",
    "df_standardized.describe()"
   ]
  },
  {
   "cell_type": "code",
   "execution_count": null,
   "id": "87a5d5ca",
   "metadata": {},
   "outputs": [],
   "source": [
    "def df_window_slicing(df: pd.DataFrame, window_size=60):\n",
    "    df_values = df.values\n",
    "    X = []\n",
    "    y = []\n",
    "\n",
    "    for i in range(len(df_values) - window_size):\n",
    "        features = df_values[i:i + window_size]\n",
    "        output = df_values[i + window_size]\n",
    "\n",
    "        X.append(features)\n",
    "        y.append(output)\n",
    "\n",
    "    return np.array(X), np.array(y)\n",
    "\n",
    "X, y = df_window_slicing(df_standardized, window_size=60)\n",
    "X.shape, y.shape"
   ]
  },
  {
   "cell_type": "code",
   "execution_count": null,
   "id": "9b7fde92",
   "metadata": {},
   "outputs": [],
   "source": [
    "X_train, X_temp, y_train, y_temp = train_test_split(X, y, test_size=0.3, random_state=42)\n",
    "X_val, X_test, y_val, y_test = train_test_split(X_temp, y_temp, test_size=0.5, random_state=42)\n",
    "\n",
    "X_train.shape, y_train.shape, X_val.shape, y_val.shape, X_test.shape, y_test.shape"
   ]
  },
  {
   "cell_type": "code",
   "execution_count": null,
   "id": "b32037fa",
   "metadata": {},
   "outputs": [],
   "source": [
    "model1 = Sequential()\n",
    "\n",
    "model1.add(LSTM(64, input_shape=(60, 7)))\n",
    "model1.add(Dense(7, 'linear'))\n",
    "\n",
    "model1.summary()\n",
    "\n",
    "# model2 = Sequential()\n",
    "# model2.add(InputLayer(input_shape=(60, 7)))\n",
    "# for _ in range(10):\n",
    "#     model2.add(LSTM(75, return_sequences=True, activation=ELU()))\n",
    "# # Single linear output layer\n",
    "# model2.add(Dense(7, activation='linear'))\n",
    "# # Compile the model with specified learning rate and batch size\n",
    "# learning_rate = 0.0001\n",
    "# batch_size = 200\n",
    "# model2.build(input_shape=(None, 60, 7))\n",
    "\n",
    "# model2.summary()"
   ]
  },
  {
   "cell_type": "code",
   "execution_count": null,
   "id": "c4135429",
   "metadata": {},
   "outputs": [],
   "source": [
    "# cp2 = ModelCheckpoint('model2/', save_best_only=True)\n",
    "# model2.compile(loss='mean_squared_error', optimizer=Adam(learning_rate=learning_rate))\n",
    "# model2.fit(X_train, y_train, validation_data=(X_val, y_val), epochs=10, callbacks=[cp2])"
   ]
  },
  {
   "cell_type": "code",
   "execution_count": null,
   "id": "aac3847a",
   "metadata": {},
   "outputs": [],
   "source": [
    "tf.get_logger().setLevel(0)\n",
    "\n",
    "# Training code\n",
    "cp1 = ModelCheckpoint('model1/', save_best_only=True)\n",
    "model1.compile(loss=MeanSquaredError(), optimizer=Adam(learning_rate=0.0001), metrics=[RootMeanSquaredError()])\n",
    "\n",
    "model1.fit(X_train, y_train, validation_data=(X_val, y_val), epochs=10, batch_size=32, callbacks=[cp1])"
   ]
  },
  {
   "cell_type": "code",
   "execution_count": null,
   "id": "80bd12b4",
   "metadata": {},
   "outputs": [],
   "source": [
    "from tensorflow.keras.models import load_model\n",
    "model1 = load_model('model1/')\n",
    "\n",
    "test_predictions = model1.predict(X_test)\n",
    "train_results = pd.DataFrame(data={'Train Predictions': test_predictions.flatten(), 'Actuals': y_test.flatten()})\n",
    "\n",
    "test_predictions.shape, X_test.shape, y_test.shape"
   ]
  },
  {
   "cell_type": "code",
   "execution_count": null,
   "id": "2b7687f7",
   "metadata": {},
   "outputs": [],
   "source": [
    "from sklearn.metrics import mean_squared_error, mean_absolute_error, r2_score, explained_variance_score, mean_absolute_percentage_error\n",
    "\n",
    "# Assuming 'train_results' contains 'Train Predictions' and 'Actuals' columns\n",
    "y_pred = train_results['Train Predictions']\n",
    "y_true = train_results['Actuals']\n",
    "\n",
    "# Calculate Mean Squared Error (MSE)\n",
    "mse = mean_squared_error(y_true, y_pred)\n",
    "\n",
    "# Calculate Mean Absolute Error (MAE)\n",
    "mae = mean_absolute_error(y_true, y_pred)\n",
    "\n",
    "# Calculate R-squared (R2) - Coefficient of Determination\n",
    "r2 = r2_score(y_true, y_pred)\n",
    "\n",
    "# Calculate Explained Variance Score\n",
    "explained_variance = explained_variance_score(y_true, y_pred)\n",
    "\n",
    "tolerance = 0.1\n",
    "correct_predictions = np.abs(y_true - y_pred) <= tolerance\n",
    "accuracy = np.mean(correct_predictions) * 100\n",
    "\n",
    "# Print the calculated metrics\n",
    "print(f\"Mean Squared Error (MSE): {mse:.2f}\")\n",
    "print(f\"Mean Absolute Error (MAE): {mae:.2f}\")\n",
    "print(f\"R-squared (R2): {r2:.2f}\")\n",
    "print(f\"Explained Variance: {explained_variance:.2f}\")\n",
    "print(f\"Custom Accuracy (within {tolerance} tolerance): {accuracy:.2f}%\")"
   ]
  },
  {
   "cell_type": "code",
   "execution_count": null,
   "id": "fe47d1a8",
   "metadata": {},
   "outputs": [],
   "source": [
    "# X = sliding_windows[:, :-1]  # Input features (all except the last time step)\n",
    "# y = sliding_windows[:, -1]  # Target (the last time step)\n",
    "\n",
    "# X_train, X_test, y_train, y_test = train_test_split(X, y, test_size=0.2, random_state=42)\n",
    "\n",
    "# model = keras.Sequential()\n",
    "# model.add(keras.layers.LSTM(units=64, input_shape=(X.shape[1], X.shape[2])))\n",
    "# model.add(keras.layers.Dense(1))  # Adjust the output layer as needed\n",
    "\n",
    "# model.compile(optimizer='adam', loss='mean_squared_error')\n",
    "# model.fit(X_train, y_train, epochs=10, batch_size=32, validation_data=(X_test, y_test))\n",
    "\n",
    "# y_pred = model.predict(X_test)\n",
    "# mse = np.mean((y_pred - y_test) ** 2)\n",
    "# print(f\"Mean Squared Error: {mse}\")"
   ]
  }
 ],
 "metadata": {
  "kernelspec": {
   "display_name": "Python 3 (ipykernel)",
   "language": "python",
   "name": "python3"
  },
  "language_info": {
   "codemirror_mode": {
    "name": "ipython",
    "version": 3
   },
   "file_extension": ".py",
   "mimetype": "text/x-python",
   "name": "python",
   "nbconvert_exporter": "python",
   "pygments_lexer": "ipython3",
   "version": "3.9.12"
  }
 },
 "nbformat": 4,
 "nbformat_minor": 5
}
